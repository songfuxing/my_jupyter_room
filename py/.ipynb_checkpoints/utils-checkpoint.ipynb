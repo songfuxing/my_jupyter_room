{
 "cells": [
  {
   "cell_type": "code",
   "execution_count": 12,
   "metadata": {},
   "outputs": [],
   "source": [
    "x=16\n",
    "b=hex(((abs(x) ^ 0xffff) + 1) & 0xffff)\n",
    "c=((abs(x) ^ 0xffff) + 1) & 0xffff\n"
   ]
  },
  {
   "cell_type": "code",
   "execution_count": 9,
   "metadata": {},
   "outputs": [
    {
     "name": "stdout",
     "output_type": "stream",
     "text": [
      "True\n"
     ]
    }
   ],
   "source": [
    "b=[ \"6763436919696130571\",\"6763436919696130571\",\"6755748736296550919\",\"6771028290762179079\",\n",
    "          \"6765773583126888973\",\n",
    "          \"6773611108730143235\",\n",
    "          \"6755850805393228295\",\n",
    "          \"6771003884702794254\",\n",
    "          \"6771005150204002823\"]\n",
    "a=\"6765773583126888973\"\n",
    "c=a in b\n",
    "print(c)\n"
   ]
  },
  {
   "cell_type": "code",
   "execution_count": 19,
   "metadata": {},
   "outputs": [
    {
     "data": {
      "text/plain": [
       "True"
      ]
     },
     "execution_count": 19,
     "metadata": {},
     "output_type": "execute_result"
    }
   ],
   "source": [
    "def match_list(llist, rlist):\n",
    "    return set(llist) & set(rlist)\n",
    "\n",
    "a=[\"123\",\"234\"]\n",
    "b=\"123\"\n",
    "c=(b in a)\n",
    "c"
   ]
  },
  {
   "cell_type": "code",
   "execution_count": 22,
   "metadata": {},
   "outputs": [
    {
     "name": "stdout",
     "output_type": "stream",
     "text": [
      "True\n",
      "False\n"
     ]
    }
   ],
   "source": [
    "from datetime import datetime\n",
    "def in_special_time(startTime,endTime):\n",
    "    now=datetime.now()\n",
    "    d_start = datetime.strptime (startTime, '%Y-%m-%d %H:%M:%S')\n",
    "    d_end = datetime.strptime (endTime, '%Y-%m-%d %H:%M:%S')\n",
    "    result = (d_start<=now) and (d_end>=now)\n",
    "    return result\n",
    "in_lianghui_time = in_special_time('2020-05-14 00:00:00','2020-05-29 00:00:00') # 两会：5月21日00:00—5月29日 00:00 \n",
    "in_liusi_time = in_special_time('2020-06-01 00:00:00','2020-06-05 00:00:00') #六四：6月1日00:00—6月5日 00:00\n",
    "print(in_lianghui_time)\n",
    "print(in_liusi_time)"
   ]
  },
  {
   "cell_type": "code",
   "execution_count": 25,
   "metadata": {},
   "outputs": [
    {
     "name": "stdout",
     "output_type": "stream",
     "text": [
      "ok\n",
      "1\n"
     ]
    }
   ],
   "source": [
    "a=[\"\"]\n",
    "if a:\n",
    "    print(\"ok\")\n",
    "print(len(a))"
   ]
  },
  {
   "cell_type": "code",
   "execution_count": 16,
   "metadata": {},
   "outputs": [
    {
     "name": "stdout",
     "output_type": "stream",
     "text": [
      "{'b': '1'}\n"
     ]
    },
    {
     "ename": "KeyError",
     "evalue": "'c'",
     "output_type": "error",
     "traceback": [
      "\u001b[0;31m---------------------------------------------------------------------------\u001b[0m",
      "\u001b[0;31mKeyError\u001b[0m                                  Traceback (most recent call last)",
      "\u001b[0;32m<ipython-input-16-281ce36355e7>\u001b[0m in \u001b[0;36m<module>\u001b[0;34m\u001b[0m\n\u001b[1;32m      2\u001b[0m \u001b[0ma\u001b[0m\u001b[0;34m[\u001b[0m\u001b[0;34m\"b\"\u001b[0m\u001b[0;34m]\u001b[0m\u001b[0;34m=\u001b[0m\u001b[0;34m\"1\"\u001b[0m\u001b[0;34m\u001b[0m\u001b[0;34m\u001b[0m\u001b[0m\n\u001b[1;32m      3\u001b[0m \u001b[0mprint\u001b[0m\u001b[0;34m(\u001b[0m\u001b[0ma\u001b[0m\u001b[0;34m)\u001b[0m\u001b[0;34m\u001b[0m\u001b[0;34m\u001b[0m\u001b[0m\n\u001b[0;32m----> 4\u001b[0;31m \u001b[0;32mdel\u001b[0m \u001b[0ma\u001b[0m\u001b[0;34m[\u001b[0m\u001b[0;34m\"c\"\u001b[0m\u001b[0;34m]\u001b[0m\u001b[0;34m\u001b[0m\u001b[0;34m\u001b[0m\u001b[0m\n\u001b[0m\u001b[1;32m      5\u001b[0m \u001b[0mprint\u001b[0m\u001b[0;34m(\u001b[0m\u001b[0ma\u001b[0m\u001b[0;34m)\u001b[0m\u001b[0;34m\u001b[0m\u001b[0;34m\u001b[0m\u001b[0m\n",
      "\u001b[0;31mKeyError\u001b[0m: 'c'"
     ]
    }
   ],
   "source": [
    "a={}\n",
    "a[\"b\"]=\"1\"\n",
    "print(a)\n",
    "del a[\"c\"]\n",
    "print(a)\n"
   ]
  },
  {
   "cell_type": "code",
   "execution_count": 9,
   "metadata": {},
   "outputs": [
    {
     "name": "stdout",
     "output_type": "stream",
     "text": [
      "[{'a': 'a'}]\n",
      "[{'a': 'b'}]\n",
      "{'a': 'b', 'b': None}\n"
     ]
    }
   ],
   "source": [
    "a={\"a\":\"a\"}\n",
    "c=[a]\n",
    "print(c)\n",
    "b=c[0]\n",
    "b[\"a\"]=\"b\"\n",
    "print(c)\n",
    "a[\"b\"]=a.get(\"b\")\n",
    "print(a)"
   ]
  },
  {
   "cell_type": "code",
   "execution_count": null,
   "metadata": {},
   "outputs": [],
   "source": [
    "a=\"a\"\n",
    "b=a\n",
    "print(b)\n",
    "a=\"c\"\n",
    "print(b)"
   ]
  },
  {
   "cell_type": "code",
   "execution_count": 2,
   "metadata": {},
   "outputs": [
    {
     "data": {
      "text/plain": [
       "1591103747"
      ]
     },
     "execution_count": 2,
     "metadata": {},
     "output_type": "execute_result"
    }
   ],
   "source": [
    "import time\n",
    "int(time.time())"
   ]
  },
  {
   "cell_type": "code",
   "execution_count": null,
   "metadata": {},
   "outputs": [],
   "source": []
  }
 ],
 "metadata": {
  "kernelspec": {
   "display_name": "Python 3",
   "language": "python",
   "name": "python3"
  },
  "language_info": {
   "codemirror_mode": {
    "name": "ipython",
    "version": 3
   },
   "file_extension": ".py",
   "mimetype": "text/x-python",
   "name": "python",
   "nbconvert_exporter": "python",
   "pygments_lexer": "ipython3",
   "version": "3.8.2"
  }
 },
 "nbformat": 4,
 "nbformat_minor": 4
}
