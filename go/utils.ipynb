{
 "cells": [
  {
   "cell_type": "code",
   "execution_count": 8,
   "metadata": {},
   "outputs": [
    {
     "ename": "ERROR",
     "evalue": "error loading package \"jsoniter\" metadata: -: malformed module path \"jsoniter\": missing dot in first path element",
     "output_type": "error",
     "traceback": [
      "error loading package \"jsoniter\" metadata: -: malformed module path \"jsoniter\": missing dot in first path element"
     ]
    }
   ],
   "source": [
    "import (\n",
    "    \"fmt\"\n",
    "\t\"jsoniter\"\n",
    ")"
   ]
  },
  {
   "cell_type": "code",
   "execution_count": 19,
   "metadata": {},
   "outputs": [
    {
     "name": "stdout",
     "output_type": "stream",
     "text": [
      "哈哈\n",
      "哈哈哈�\n"
     ]
    },
    {
     "data": {
      "text/plain": [
       "11 <nil>"
      ]
     },
     "execution_count": 19,
     "metadata": {},
     "output_type": "execute_result"
    }
   ],
   "source": [
    "// 中文截断\n",
    "func SliceChinese(str string, start, end int) string {\n",
    "\tnameRune := []rune(str)\n",
    "\tif len(nameRune) < end {\n",
    "\t\treturn str\n",
    "\t}\n",
    "\treturn string(nameRune[start:end])\n",
    "}\n",
    "\n",
    "name := \"哈哈哈哈哈\"\n",
    "fmt.Println(SliceChinese(name,3,5))\n",
    "fmt.Println(name[:10])"
   ]
  },
  {
   "cell_type": "code",
   "execution_count": 37,
   "metadata": {},
   "outputs": [
    {
     "name": "stdout",
     "output_type": "stream",
     "text": [
      "1: map[]\n",
      " 2: <nil>\n",
      "v:<nil> t: %!t(<nil>)\n"
     ]
    }
   ],
   "source": [
    "// json load\n",
    "\n",
    "func JsonLoads(str string) map[string]interface{} {\n",
    "\tvar result map[string]interface{}\n",
    "\tjson.Unmarshal([]byte(str), &result)\n",
    "\treturn result\n",
    "}\n",
    "str := \"{\\review_status\\\":3,\\\"start_review_time\\\":1591300653,\\\"end_review_time\\\":1591344530}\"\n",
    "fmt.Printf(\"1: %v\\n 2: %v\\n\", JsonLoads(str), JsonLoads(str)[\"review_status\"])\n",
    "value := JsonLoads(str)[\"review_status\"]\n",
    "fmt.Printf(\"v:%v t: %t\\n\",value,value)\n",
    "if v,ok :=value.(float64);ok {\n",
    "    fmt.Println(v)\n",
    "} \n",
    "// type defaultType string\n",
    "\n",
    "// cosnt(\n",
    "//     Default_Map defaultType = \"map\"\n",
    "//     Defualt_String defaultType = \"string\"\n",
    "//     Defualt_Int defaultType = \"int\"\n",
    "// )\n",
    "\n",
    "// func MapGet(m map[string]interface, key string,defaultValue string) {\n",
    "//      value:= m[key]\n",
    "//      switch{\n",
    "//         case \"map\":\n",
    "//          if value == nil {\n",
    "//              return map[string]interface{}\n",
    "//          } \n",
    "//          if value.(type) == \"map\"{\n",
    "//              return value.(map[string]interface{})\n",
    "//          }\n",
    "        \n",
    "//         case \"string\":\n",
    "//          if value == nil {\n",
    "//              return \"\"\n",
    "//          } \n",
    "//          if value.(type) == \"string\"{\n",
    "//              return value.(string)\n",
    "//          }\n",
    "        \n",
    "//         case \"int\":\n",
    "//           if value == nil {\n",
    "//              return 0\n",
    "//          } \n",
    "//          if value.(type) == \"string\"{\n",
    "//              return value.(int)\n",
    "//          }\n",
    "    \n",
    "// }"
   ]
  },
  {
   "cell_type": "code",
   "execution_count": 47,
   "metadata": {},
   "outputs": [
    {
     "name": "stdout",
     "output_type": "stream",
     "text": [
      "{\"1\":\"a\",\"2\":\"abcd\"}"
     ]
    },
    {
     "data": {
      "text/plain": [
       "20 <nil>"
      ]
     },
     "execution_count": 47,
     "metadata": {},
     "output_type": "execute_result"
    }
   ],
   "source": [
    "type t int\n",
    "const(\n",
    "    t1 t=1\n",
    "    t2 t=2\n",
    ")\n",
    "data := map[t]string{\n",
    "    t1: \"a\",\n",
    "    t2: \"abcd\",\n",
    "   \n",
    "}\n",
    "r, _ := json.Marshal(data)\n",
    "fmt.Printf(\"%s\",r)"
   ]
  },
  {
   "cell_type": "code",
   "execution_count": null,
   "metadata": {},
   "outputs": [],
   "source": []
  }
 ],
 "metadata": {
  "kernelspec": {
   "display_name": "Go",
   "language": "go",
   "name": "gophernotes"
  },
  "language_info": {
   "codemirror_mode": "",
   "file_extension": ".go",
   "mimetype": "",
   "name": "go",
   "nbconvert_exporter": "",
   "pygments_lexer": "",
   "version": "go1.13.3"
  }
 },
 "nbformat": 4,
 "nbformat_minor": 4
}
