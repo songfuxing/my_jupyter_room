{
 "cells": [
  {
   "cell_type": "markdown",
   "metadata": {},
   "source": [
    "## Interfaces as Contract"
   ]
  },
  {
   "cell_type": "code",
   "execution_count": 6,
   "metadata": {},
   "outputs": [],
   "source": [
    "type Writer interface {\n",
    "    Write(p []byte) (n int, err error)\n",
    "}\n",
    "type ByteCount struct {\n",
    "    currentCount int\n",
    "    totalCount int\n",
    "}\n",
    "\n",
    "func (b *ByteCount) Write(p []byte) (int, error) {\n",
    "    b.totalCount += len(p)\n",
    "    b.currentCount = len(p)\n",
    "    return len(p), nil\n",
    "}\n"
   ]
  },
  {
   "cell_type": "code",
   "execution_count": 3,
   "metadata": {},
   "outputs": [],
   "source": [
    "import (\n",
    "    \"fmt\"\n",
    "    \"os\"\n",
    "    \"strings\"\n",
    "    \"io\"\n",
    "    \"bytes\"\n",
    "    \"time\"\n",
    "    \"flag\"\n",
    "    \"sort\"\n",
    "    \"net/http\"\n",
    ")"
   ]
  },
  {
   "cell_type": "code",
   "execution_count": 18,
   "metadata": {},
   "outputs": [],
   "source": [
    "//func Fprintf(w io.Writer, format string, a ...interface{}) (n int, err error) {}\n",
    "// os.Stdout和bytes.Buffer都实现了io.Writer的方法，因此可以当作io.Writer传入Fprintf\n",
    "func Printf(format string, args ...interface{})(int,error) {\n",
    "    return fmt.Fprintf(os.Stdout, format, args...)\n",
    "}\n",
    "\n",
    "func Sprintf(format string,  args ...interface{}) string {\n",
    "    var buf bytes.Buffer\n",
    "    fmt.Fprintf(&buf, format, args...)\n",
    "    return buf.String()\n",
    "}\n",
    "\n",
    "//code, err :=Printf(\"hello: %v, This is printed in standard output\", \"Printf\")\n",
    "//Sprintf(\"hello: %v, This is printed with bytes\",\"Sprintf\")"
   ]
  },
  {
   "cell_type": "code",
   "execution_count": 19,
   "metadata": {},
   "outputs": [
    {
     "ename": "ERROR",
     "evalue": "repl.go:8:31: cannot use <**main.ByteCount> as <io.Writer> in argument to fmt.Fprintf",
     "output_type": "error",
     "traceback": [
      "repl.go:8:31: cannot use <**main.ByteCount> as <io.Writer> in argument to fmt.Fprintf"
     ]
    }
   ],
   "source": [
    "c := &ByteCount{}\n",
    "c.Write([]byte(\"hello\"))\n",
    "fmt.Printf(\"type c: %T\\n\", c)\n",
    "fmt.Printf(\"ByteCount total: %v, current: %v\\n\", c.totalCount, c.currentCount)\n",
    "c.Write([]byte(\"songfuxing\"))\n",
    "fmt.Printf(\"ByteCount total: %v, current: %v\\n\", c.totalCount, c.currentCount)\n",
    "var  name = \"songfuxing\"\n",
    "fmt.Fprintf(&c, \"hello,  %s\", name)"
   ]
  },
  {
   "cell_type": "markdown",
   "metadata": {},
   "source": [
    "# Interface satisfiction"
   ]
  },
  {
   "cell_type": "code",
   "execution_count": 41,
   "metadata": {},
   "outputs": [],
   "source": [
    "var w io.Writer\n",
    "w = os.Stdout // right\n",
    "w = new(bytes.Buffer) // right\n",
    "//w = time.Second //wrong\n"
   ]
  },
  {
   "cell_type": "code",
   "execution_count": 42,
   "metadata": {},
   "outputs": [],
   "source": [
    "type IntSet struct {}\n",
    "func (*IntSet) String() string\n",
    "var _ =  IntSet{}.String()\n",
    "var s IntSet\n",
    "var _ = s.String()\n",
    "var _ fmt.Stringer = &s"
   ]
  },
  {
   "cell_type": "markdown",
   "metadata": {},
   "source": [
    "# Parsing Flags with flag.Value"
   ]
  },
  {
   "cell_type": "code",
   "execution_count": 23,
   "metadata": {},
   "outputs": [
    {
     "name": "stdout",
     "output_type": "stream",
     "text": [
      "Sleeping for 1s\n",
      "done\n"
     ]
    },
    {
     "data": {
      "text/plain": [
       "5 <nil>"
      ]
     },
     "execution_count": 23,
     "metadata": {},
     "output_type": "execute_result"
    }
   ],
   "source": [
    "period := flag.Duration(\"period\", 1 * time.Second, \"sleep  period\")\n",
    "flag.Parse()\n",
    "fmt.Printf(\"Sleeping for %v\\n\", *period)\n",
    "time.Sleep(*period)\n",
    "fmt.Println(\"done\")"
   ]
  },
  {
   "cell_type": "markdown",
   "metadata": {},
   "source": [
    "# Interface value"
   ]
  },
  {
   "cell_type": "code",
   "execution_count": 22,
   "metadata": {},
   "outputs": [
    {
     "name": "stdout",
     "output_type": "stream",
     "text": [
      "<nil>,<nil>\n",
      "*os.File,&{0xc000988480}\n",
      "hello\n",
      "*bytes.Buffer,\n",
      "false\n"
     ]
    },
    {
     "ename": "ERROR",
     "evalue": "runtime error: comparing uncomparable type []int",
     "output_type": "error",
     "traceback": [
      "runtime error: comparing uncomparable type []int"
     ]
    }
   ],
   "source": [
    "var w io.Writer // init a  interface\n",
    "fmt.Printf(\"%T,%v\\n\", w,w)\n",
    "//w.Write([]byte(\"hello\")) // error\n",
    "\n",
    "//给 insterface赋值\n",
    "// w的静态 类型是io.Writer, 动态 类型是os.Stdout\n",
    "w = os.Stdout // conversion from a concrete type to an interface type\n",
    "fmt.Printf(\"%T,%v\\n\", w,w)\n",
    "w.Write([]byte(\"hello\\n\")) // (os.sdout.Write())\n",
    "\n",
    "w = new(bytes.Buffer)\n",
    "fmt.Printf(\"%T,%v\\n\", w,w)\n",
    "w.Write([]byte(\"hello\\n\"))// (bytes.Buffer.Write())\n",
    "\n",
    "var x interface{} = []int{1,2,3}\n",
    "fmt.Println(x == nil) // type 不相等 \n",
    "fmt.Println(x == x) // type 相等，比较 value的时候报错，因为 slice not comparable\n"
   ]
  },
  {
   "cell_type": "markdown",
   "metadata": {},
   "source": [
    "## 给接口赋值"
   ]
  },
  {
   "cell_type": "code",
   "execution_count": 20,
   "metadata": {},
   "outputs": [
    {
     "name": "stdout",
     "output_type": "stream",
     "text": [
      "dog\n",
      "dog\n",
      "dog2\n",
      "dog2\n"
     ]
    }
   ],
   "source": [
    "type Pet interface{\n",
    "    SetName(name string)  \n",
    "    GetName()  \n",
    "}\n",
    "\n",
    "type Dog struct{\n",
    "    name string\n",
    "    category string\n",
    "}\n",
    "func  (d  *Dog) GetName()  {\n",
    "    fmt.Println(d.name)\n",
    "}\n",
    "\n",
    "func (d *Dog)  SetName(name string) {\n",
    "    d.name = name\n",
    "}\n",
    "dog :=  &Dog{name: \"dog\"}\n",
    "\n",
    "var pet Pet= dog // pet的静态类型是Pet，动态类型是Dog, 动态值是dog值的copy,也就是一个指针的copy\n",
    "var pig Pet = dog\n",
    "pet.GetName() // dog\n",
    "pig.GetName() //dog\n",
    "\n",
    "dog.SetName(\"dog2\") //  修改了dog值之后，由于pet和pig的动态值都是*dog，因此可以感知到改变\n",
    "pet.GetName()//dog2\n",
    "pig.GetName()//dog2\n",
    "\n"
   ]
  },
  {
   "cell_type": "code",
   "execution_count": 21,
   "metadata": {},
   "outputs": [
    {
     "name": "stdout",
     "output_type": "stream",
     "text": [
      "dog\n",
      "dog\n",
      "dog\n",
      "dog\n"
     ]
    }
   ],
   "source": [
    "type Pet interface{\n",
    "    SetName(name string)  \n",
    "    GetName()  \n",
    "}\n",
    "\n",
    "type Dog struct{\n",
    "    name string\n",
    "    category string\n",
    "}\n",
    "func  (d  Dog) GetName()  {\n",
    "    fmt.Println(d.name)\n",
    "}\n",
    "\n",
    "func (d Dog)  SetName(name string) {\n",
    "    d.name = name\n",
    "}\n",
    "dog :=  Dog{name: \"dog\"}\n",
    "\n",
    "var pet Pet= dog // pet的静态类型是Pet，动态类型是Dog, 动态值是dog值的copy,也就是一个值的copy\n",
    "var pig Pet = dog\n",
    "pet.GetName() // dog\n",
    "pig.GetName() //dog\n",
    "\n",
    "dog.SetName(\"dog2\") //修改了dog值之后，由于pet和pig的动态值都是dog结构体的copy，因此无法感知到改变\n",
    "pet.GetName()//dog。 pet的值仍然是赋值时的dog结构体（copy）\n",
    "pig.GetName()//dog 。pig的值仍然是赋值时的dog结构体（copy）"
   ]
  },
  {
   "cell_type": "markdown",
   "metadata": {},
   "source": [
    "# Sorting with sort.Interface"
   ]
  },
  {
   "cell_type": "code",
   "execution_count": 10,
   "metadata": {},
   "outputs": [
    {
     "name": "stdout",
     "output_type": "stream",
     "text": [
      "[a b c]\n"
     ]
    },
    {
     "data": {
      "text/plain": [
       "8 <nil>"
      ]
     },
     "execution_count": 10,
     "metadata": {},
     "output_type": "execute_result"
    }
   ],
   "source": [
    "type StringSlice []string\n",
    "func (s StringSlice) Len() int {return len(s)}\n",
    "func (s StringSlice) Less(i,j int) bool {return s[i]<s[j]}\n",
    "func (s StringSlice) Swap(i,j int) {s[i],s[j]=s[j],s[i]}\n",
    "names := []string{\"c\",\"b\",\"a\"}\n",
    "sort.Sort(StringSlice(names))\n",
    "fmt.Println(names)"
   ]
  },
  {
   "cell_type": "code",
   "execution_count": 48,
   "metadata": {},
   "outputs": [
    {
     "name": "stdout",
     "output_type": "stream",
     "text": [
      "name\tage\n",
      "---\t---\n",
      "a\t2\n",
      "c\t10\n",
      "b\t1\n",
      "name\tage\n",
      "---\t---\n",
      "a\t2\n",
      "b\t1\n",
      "c\t10\n"
     ]
    }
   ],
   "source": [
    "type  trick struct {\n",
    "    name string\n",
    "    age int\n",
    "}\n",
    "tricks := []*trick {\n",
    "    {name: \"a\", age: 2},\n",
    "    {name: \"c\", age: 10},\n",
    "    {name: \"b\", age: 1},\n",
    "}\n",
    "func printTricks(t []*trick) {\n",
    "    const format = \"%v\\t%v\\n\"\n",
    "    fmt.Printf(format, \"name\", \"age\")\n",
    "    fmt.Printf(format, \"---\", \"---\")\n",
    "    for _,t := range tricks {\n",
    "        fmt.Printf(format,  t.name, t.age)\n",
    "    }\n",
    "}\n",
    "type sortByName []*trick\n",
    "func (s sortByName) Len() int  {return  len(s)}\n",
    "func (s sortByName) Less(i,j int) bool {return  s[i].name <  s[j].name}\n",
    "func (s sortByName) Swap(i,j int) {s[i],  s[j] = s[j], s[i]}\n",
    "printTricks(tricks)\n",
    "sort.Sort(sortByName(tricks))\n",
    "printTricks(tricks)"
   ]
  },
  {
   "cell_type": "markdown",
   "metadata": {},
   "source": [
    "# http.Handler  Interface"
   ]
  },
  {
   "cell_type": "code",
   "execution_count": 7,
   "metadata": {},
   "outputs": [],
   "source": [
    "type Handler interface {\n",
    "    ServeHTTP(w http.ResponseWriter,  r *http.Request)\n",
    "}\n",
    "func ListenAndServe(address string,  h Handler) error\n",
    "// 只要实现了Handler接口，就可以作为ListenAndServe的参数"
   ]
  },
  {
   "cell_type": "code",
   "execution_count": 8,
   "metadata": {},
   "outputs": [],
   "source": [
    "// handler 的实现--database实现Handler接口\n",
    "type  dollar float32\n",
    "func (d dollar) String() string {return fmt.Sprintf(\"$%.2f\", d)}\n",
    "func (db database) String() string {\n",
    "    for k,v := range  db {\n",
    "        fmt.Printf(\"%s:%s\\n\", k,v.String())\n",
    "    }\n",
    "}\n",
    "type database  map[string]dollar\n",
    "func (d database) ServeHTTP(w  http.ResponseWriter, req *http.Request) {\n",
    "    for item, price  := range d {\n",
    "        fmt.Fprintf(w, \"%s: %s \\n\", item, price)\n",
    "    }\n",
    "}"
   ]
  },
  {
   "cell_type": "code",
   "execution_count": 9,
   "metadata": {},
   "outputs": [
    {
     "name": "stdout",
     "output_type": "stream",
     "text": [
      "shoes:$10.00\n"
     ]
    },
    {
     "data": {
      "text/plain": [
       "0 <nil>"
      ]
     },
     "execution_count": 9,
     "metadata": {},
     "output_type": "execute_result"
    }
   ],
   "source": [
    "db:= database{\"shoes\":10}\n",
    "fmt.Printf(\"%s\", db.String())\n",
    "// http.ListenAndServe(\"localhost: 8080\", db)"
   ]
  },
  {
   "cell_type": "code",
   "execution_count": null,
   "metadata": {},
   "outputs": [],
   "source": [
    "// handler的实现--使用ServerMux\n",
    "type database  map[string]dollar\n",
    "\n",
    "db := database{\"shoes\":50,\"socks\":5}\n",
    "\n",
    "func (db database) list(w http.ResponseWriter, req *http.Request) {\n",
    "    fmt.Fprintf(w, \"%s\\n\", db.String())\n",
    "}\n",
    "func (db  database) price(w http.ResponseWriter, req *http.Request) {\n",
    "    item := req.URL.Query().Get(\"item\")\n",
    "    price, ok := db[item]\n",
    "    if !ok {\n",
    "        w.WriteHeader(http.StatusNotFound) //404\n",
    "        fmt.Fprint(w, \"no such item: %q\\n\", item)\n",
    "        return\n",
    "    }\n",
    "    fmt.Fprintf(w, \"%s\\n\", price)\n",
    "}\n",
    "mux := http.NewServeMux()\n",
    "mux.Handle(\"/list\", http.HandlerFunc(db.list))\n",
    "mux.Handle(\"/prices\",  http.HandlerFunc(db.price))\n",
    "http.ListenAndServe(\"localhost:8000\", mux)\n",
    "//mux.Handle需要接收一个实现了Handler接口的func，但是db.list不具备条件，因此给强转成了 http.HandlerFunc\n",
    "\n",
    "// The HandlerFunc type is an adapter to allow the use of\n",
    "// ordinary functions as HTTP handlers. If f is a function\n",
    "// with the appropriate signature, HandlerFunc(f) is a\n",
    "// Handler that calls f.\n",
    "type HandlerFunc func(ResponseWriter, *Request)\n",
    "\n",
    "// ServeHTTP calls f(w, r).\n",
    "func (f HandlerFunc) ServeHTTP(w ResponseWriter, r *Request) {\n",
    "\tf(w, r)\n",
    "}"
   ]
  },
  {
   "cell_type": "code",
   "execution_count": null,
   "metadata": {},
   "outputs": [],
   "source": [
    "// handler的实现，使用HandleFunc(注意不是HandlerFunc)\n",
    "http.HandleFunc(\"/list\", db.list)\n",
    "http.HandleFunc(\"price\",db.price)\n",
    "http.ListenAndServe(\"localhost: 8000\", nil)\n",
    "// http package提供一个全局ServeMux, 声明为DefaulServeMux\n",
    "\n",
    "\n",
    "// HandleFunc registers the handler function for the given pattern\n",
    "// in the DefaultServeMux.\n",
    "// The documentation for ServeMux explains how patterns are matched.\n",
    "func HandleFunc(pattern string, handler func(ResponseWriter, *Request)) {\n",
    "\tDefaultServeMux.HandleFunc(pattern, handler)\n",
    "}"
   ]
  },
  {
   "cell_type": "code",
   "execution_count": null,
   "metadata": {},
   "outputs": [],
   "source": []
  },
  {
   "cell_type": "code",
   "execution_count": null,
   "metadata": {},
   "outputs": [],
   "source": []
  }
 ],
 "metadata": {
  "kernelspec": {
   "display_name": "Go",
   "language": "go",
   "name": "gophernotes"
  },
  "language_info": {
   "codemirror_mode": "",
   "file_extension": ".go",
   "mimetype": "",
   "name": "go",
   "nbconvert_exporter": "",
   "pygments_lexer": "",
   "version": "go1.13.3"
  },
  "widgets": {
   "application/vnd.jupyter.widget-state+json": {
    "state": {},
    "version_major": 2,
    "version_minor": 0
   }
  }
 },
 "nbformat": 4,
 "nbformat_minor": 4
}
