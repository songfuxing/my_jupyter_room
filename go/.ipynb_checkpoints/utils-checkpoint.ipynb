{
 "cells": [
  {
   "cell_type": "code",
   "execution_count": 4,
   "metadata": {},
   "outputs": [],
   "source": [
    "import (\n",
    "    \"fmt\"\n",
    ")"
   ]
  },
  {
   "cell_type": "code",
   "execution_count": 19,
   "metadata": {},
   "outputs": [
    {
     "name": "stdout",
     "output_type": "stream",
     "text": [
      "哈哈\n",
      "哈哈哈�\n"
     ]
    },
    {
     "data": {
      "text/plain": [
       "11 <nil>"
      ]
     },
     "execution_count": 19,
     "metadata": {},
     "output_type": "execute_result"
    }
   ],
   "source": [
    "// 中文截断\n",
    "func SliceChinese(str string, start, end int) string {\n",
    "\tnameRune := []rune(str)\n",
    "\tif len(nameRune) < end {\n",
    "\t\treturn str\n",
    "\t}\n",
    "\treturn string(nameRune[start:end])\n",
    "}\n",
    "\n",
    "name := \"哈哈哈哈哈\"\n",
    "fmt.Println(SliceChinese(name,3,5))\n",
    "fmt.Println(name[:10])"
   ]
  },
  {
   "cell_type": "code",
   "execution_count": null,
   "metadata": {},
   "outputs": [],
   "source": [
    "// json load\n",
    "\n",
    "func JsonLoads(str string) map[string]interface{} {\n",
    "\tresult := make(map[string]interface{})\n",
    "\tjson.Unmarshal([]byte(str), &result)\n",
    "\treturn result\n",
    "}"
   ]
  }
 ],
 "metadata": {
  "kernelspec": {
   "display_name": "Go",
   "language": "go",
   "name": "gophernotes"
  },
  "language_info": {
   "codemirror_mode": "",
   "file_extension": ".go",
   "mimetype": "",
   "name": "go",
   "nbconvert_exporter": "",
   "pygments_lexer": "",
   "version": "go1.13.3"
  }
 },
 "nbformat": 4,
 "nbformat_minor": 4
}
