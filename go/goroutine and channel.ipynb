{
 "cells": [
  {
   "cell_type": "markdown",
   "metadata": {},
   "source": [
    "# Goroutines"
   ]
  },
  {
   "cell_type": "code",
   "execution_count": 1,
   "metadata": {},
   "outputs": [
    {
     "name": "stdout",
     "output_type": "stream",
     "text": [
      "\r",
      "Fibonacci(4)=3\n"
     ]
    },
    {
     "data": {
      "text/plain": [
       "16 <nil>"
      ]
     },
     "execution_count": 1,
     "metadata": {},
     "output_type": "execute_result"
    }
   ],
   "source": [
    "import(\n",
    "    \"time\"\n",
    "    \"fmt\"\n",
    ")\n",
    "func spinner(delay time.Duration){\n",
    "    for {\n",
    "        for _, r := range `-\\|/`{\n",
    "            fmt.Printf(\"\\r%c\", r)\n",
    "            time.Sleep(delay)\n",
    "        }\n",
    "    }\n",
    "}\n",
    "func fib(x int) int {\n",
    "    if x < 2{\n",
    "        return x\n",
    "    }\n",
    "    return fib(x-1) + fib(x-2)\n",
    "}\n",
    "go spinner(100 * time.Millisecond)\n",
    "n:=4\n",
    "f := fib(n)\n",
    "fmt.Printf(\"\\rFibonacci(%d)=%d\\n\", n, f)"
   ]
  },
  {
   "cell_type": "code",
   "execution_count": 4,
   "metadata": {},
   "outputs": [
    {
     "name": "stdout",
     "output_type": "stream",
     "text": [
      "make file star\n",
      "make file done\n",
      "end\n",
      "filename: songfuxing, size: 10\n",
      "total: 10\n",
      "total: 13\n",
      "filename: sfx, size: 3\n",
      "total: 13\n"
     ]
    }
   ],
   "source": [
    "import(\n",
    "    \"fmt\"\n",
    "    \"sync\"\n",
    "    \"time\"\n",
    ")\n",
    "func makeThumb(filenames <-chan string) {\n",
    "    sizes := make(chan int64)\n",
    "    var wg sync.WaitGroup\n",
    "    for f := range filenames { // 取出通道中所有数据，如果通道没有cloose，则阻塞，否则range结束\n",
    "        wg.Add(1)\n",
    "        go func(f string) {\n",
    "            defer wg.Done()\n",
    "            sizes <- int64(len(f))\n",
    "            fmt.Printf(\"filename: %v, size: %v\\n\", f, len(f))\n",
    "        }(f)\n",
    "    }\n",
    "    go func() {\n",
    "        fmt.Printf(\"end\\n\")\n",
    "        wg.Wait()\n",
    "        close(sizes)\n",
    "    }()\n",
    "    var total int64\n",
    "    for size := range sizes {\n",
    "        total += size\n",
    "        fmt.Printf(\"total: %v\\n\", total)\n",
    "    }\n",
    "    fmt.Printf(\"total: %v\\n\", total)\n",
    "}\n",
    "func makeFile() chan string{\n",
    "    filenames := make(chan string, 2)\n",
    "    fmt.Printf(\"make file star\\n\")\n",
    "    filenames <- \"sfx\"\n",
    "    filenames <- \"songfuxing\"\n",
    "    fmt.Printf(\"make file done\\n\")\n",
    "    close(filenames)\n",
    "    return filenames\n",
    "}\n",
    "filenames := makeFile()\n",
    "makeThumb(filenames)"
   ]
  },
  {
   "cell_type": "markdown",
   "metadata": {},
   "source": [
    "# Example: Concurrent Web Crawler"
   ]
  },
  {
   "cell_type": "code",
   "execution_count": 1,
   "metadata": {},
   "outputs": [
    {
     "name": "stdout",
     "output_type": "stream",
     "text": [
      "// warning: could not find package \"github.com/gopherdata/gophernotes/imports\" in $GOPATH = \"/Users/songfuxing/go\"\n",
      "//          command 'import _b \"path/to/some/package\"' may not work correctly.\n",
      "\n"
     ]
    },
    {
     "ename": "ERROR",
     "evalue": "error loading package \"links\" metadata: -: malformed module path \"links\": missing dot in first path element",
     "output_type": "error",
     "traceback": [
      "error loading package \"links\" metadata: -: malformed module path \"links\": missing dot in first path element"
     ]
    }
   ],
   "source": [
    "import(\n",
    "    \"fmt\"\n",
    "    \"links\"\n",
    "    \"log\"\n",
    ")\n",
    "func crawl(url string) []string {\n",
    "    fmt.Println(url)\n",
    "    list, err := links.Extract(url)\n",
    "    if err != nil {\n",
    "        log.Print(err)\n",
    "    }\n",
    "    return list\n",
    "}\n",
    "crawl(\"www.baidu.com\")"
   ]
  },
  {
   "cell_type": "code",
   "execution_count": 2,
   "metadata": {},
   "outputs": [
    {
     "ename": "ERROR",
     "evalue": "error loading package \"golang.org/x/net/html\" metadata: -: module golang.org/x/net/html: Get https://go-mod-proxy.byted.org/golang.org/x/net/html/@v/list: dial tcp: lookup go-mod-proxy.byted.org: no such host",
     "output_type": "error",
     "traceback": [
      "error loading package \"golang.org/x/net/html\" metadata: -: module golang.org/x/net/html: Get https://go-mod-proxy.byted.org/golang.org/x/net/html/@v/list: dial tcp: lookup go-mod-proxy.byted.org: no such host"
     ]
    }
   ],
   "source": [
    "package links\n",
    "import(\n",
    "    \"fmt\"\n",
    "    \"net/http\"\n",
    "    \"golang.org/x/net/html\"\n",
    ")\n",
    "func Extract(url string) ([]string, error) {\n",
    "    resp, err := http.Get(url)\n",
    "    if err != nil {\n",
    "        return nil, err\n",
    "    }\n",
    "    if resp.StatusCode != http.StatusOK {\n",
    "        resp.Body.Close()\n",
    "        return nil, fmt.Errorf(\"getting %s: %s\", url, resp.Status)\n",
    "    }\n",
    "    doc, err := html.Parse(resp.Body)\n",
    "    resp.Body.Close()\n",
    "    if err != nil {\n",
    "        return nil, fmt.Errorf(\"parsing %s: as HTML: %v\", url, err)\n",
    "    }\n",
    "    var links []string\n",
    "    visitNode := func(n *html.Node) {\n",
    "        if n.Type == html.ElementNode && n.Data == \"a\" {\n",
    "            for _, a := range n.Attr {\n",
    "                if a.key != \"href\" {\n",
    "                    continue\n",
    "                }\n",
    "                link, err := resp.Request.URL.Parse(a.Val)\n",
    "                if err != nil {\n",
    "                    continue\n",
    "                }\n",
    "                links = append(links, link.String())\n",
    "            }\n",
    "        }\n",
    "    }\n",
    "    foreachNode(doc, visitNode, nil)\n",
    "    return links, nil\n",
    "}\n"
   ]
  },
  {
   "cell_type": "code",
   "execution_count": null,
   "metadata": {},
   "outputs": [],
   "source": []
  }
 ],
 "metadata": {
  "kernelspec": {
   "display_name": "Go",
   "language": "go",
   "name": "gophernotes"
  },
  "language_info": {
   "codemirror_mode": "",
   "file_extension": ".go",
   "mimetype": "",
   "name": "go",
   "nbconvert_exporter": "",
   "pygments_lexer": "",
   "version": "go1.13.3"
  }
 },
 "nbformat": 4,
 "nbformat_minor": 4
}
