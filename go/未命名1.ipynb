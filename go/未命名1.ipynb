{
 "cells": [
  {
   "cell_type": "code",
   "execution_count": 11,
   "metadata": {},
   "outputs": [
    {
     "name": "stdout",
     "output_type": "stream",
     "text": [
      "5月16日 00:14\n",
      "2020年5月14日 09:37\n",
      "1589700076\n"
     ]
    },
    {
     "data": {
      "text/plain": [
       "11 <nil>"
      ]
     },
     "execution_count": 11,
     "metadata": {},
     "output_type": "execute_result"
    }
   ],
   "source": [
    "package main\n",
    "import (\n",
    "    \"time\"\n",
    "    \"fmt\"\n",
    ")\n",
    "func FormatTime(publishTime int64) string {\n",
    "\tt := time.Unix(publishTime, 0)\n",
    "\treturn t.Format(\"1月2日 15:04\")\n",
    "}\n",
    "func FormatTimeWithYear(publishTime int64) string {\n",
    "\tt := time.Unix(publishTime, 0)\n",
    "\treturn t.Format(\"2006年1月2日 15:04\")\n",
    "}\n",
    "s:=FormatTime(1589559275)\n",
    "fmt.Println(s)\n",
    "s:=FormatTimeWithYear(1589420239)\n",
    "fmt.Println(s)\n",
    "fmt.Println(time.Now().Unix())"
   ]
  },
  {
   "cell_type": "code",
   "execution_count": null,
   "metadata": {},
   "outputs": [],
   "source": []
  }
 ],
 "metadata": {
  "kernelspec": {
   "display_name": "Go",
   "language": "go",
   "name": "gophernotes"
  },
  "language_info": {
   "codemirror_mode": "",
   "file_extension": ".go",
   "mimetype": "",
   "name": "go",
   "nbconvert_exporter": "",
   "pygments_lexer": "",
   "version": "go1.13.3"
  }
 },
 "nbformat": 4,
 "nbformat_minor": 4
}
